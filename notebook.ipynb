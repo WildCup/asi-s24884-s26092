{
 "cells": [
  {
   "cell_type": "code",
   "execution_count": 1,
   "metadata": {},
   "outputs": [],
   "source": [
    "import matplotlib.pyplot as plt\n",
    "import yfinance as yf\n",
    "import pandas as pd\n",
    "from sklearn.linear_model import LinearRegression\n",
    "from sklearn.model_selection import train_test_split\n",
    "from sklearn.metrics import mean_squared_error, r2_score"
   ]
  },
  {
   "cell_type": "code",
   "execution_count": null,
   "metadata": {},
   "outputs": [],
   "source": [
    "ticker = 'AAPL'\n",
    "data = yf.download(ticker)\n",
    "# Display the first few rows of the dataset\n",
    "print(data.head())"
   ]
  },
  {
   "cell_type": "code",
   "execution_count": 3,
   "metadata": {},
   "outputs": [],
   "source": [
    "# Calculate moving averages\n",
    "data['MA_10'] = data['Close'].rolling(window=10).mean()\n",
    "data['MA_50'] = data['Close'].rolling(window=50).mean()\n",
    "\n",
    "# Drop NaN values\n",
    "data = data.dropna()\n",
    "\n",
    "# Define features and target\n",
    "X = data[['Close', 'MA_10', 'MA_50']]\n",
    "y = data['Close'].shift(-1).dropna()  # Shift target by 1 day to predict next day's close price\n",
    "X = X[:-1]  # Align the features with the target\n",
    "\n",
    "# Split data into training and testing sets\n",
    "X_train, X_test, y_train, y_test = train_test_split(X, y, test_size=0.2, random_state=42, shuffle=False)"
   ]
  },
  {
   "cell_type": "code",
   "execution_count": null,
   "metadata": {},
   "outputs": [],
   "source": [
    "# Initialize and train the model\n",
    "model = LinearRegression()\n",
    "model.fit(X_train, y_train)\n",
    "\n",
    "# Make predictions\n",
    "predictions = model.predict(X_test)\n",
    "\n",
    "# Evaluate the model\n",
    "mse = mean_squared_error(y_test, predictions)\n",
    "r2 = r2_score(y_test, predictions)\n",
    "print(f'Mean Squared Error: {mse}')\n",
    "print(f'R² Score: {r2}')"
   ]
  },
  {
   "cell_type": "code",
   "execution_count": null,
   "metadata": {},
   "outputs": [],
   "source": [
    "# Ensure the index is sorted to match the time series order for plotting\n",
    "plt.figure(figsize=(14, 7))\n",
    "\n",
    "# Sort the data before plotting\n",
    "plt.plot(y_test.index, y_test.values, label='Actual Price')\n",
    "plt.plot(y_test.index, predictions, label='Predicted Price')\n",
    "\n",
    "# Adding labels and title\n",
    "plt.xlabel('Date')\n",
    "plt.ylabel('Price')\n",
    "plt.title('Actual vs. Predicted Stock Prices')\n",
    "plt.legend()\n",
    "\n",
    "# Show the plot\n",
    "plt.tight_layout()\n",
    "plt.show()\n"
   ]
  },
  {
   "cell_type": "code",
   "execution_count": null,
   "metadata": {},
   "outputs": [],
   "source": [
    "# Set initial balance and position\n",
    "initial_balance = 10000  # Starting balance in USD\n",
    "balance = initial_balance\n",
    "position = 0  # Number of shares held\n",
    "\n",
    "# Simulate trading over X_test\n",
    "for i in range(len(X_test)):\n",
    "    current_price = X_test.iloc[i]['Close']  # Current stock price (scalar)\n",
    "    predicted_price = predictions[i]  # Predicted stock price for the next day (scalar)\n",
    "\n",
    "    # Ensure both are scalar values\n",
    "    current_price = current_price.item() if isinstance(current_price, pd.Series) else current_price\n",
    "    predicted_price = predicted_price.item() if isinstance(predicted_price, pd.Series) else predicted_price\n",
    "\n",
    "    # Buy condition: predicted price is higher than current price and we have enough balance\n",
    "    if predicted_price > current_price and balance >= current_price:\n",
    "        # Buy stock (whole shares only)\n",
    "        shares_to_buy = int(balance // current_price)\n",
    "        if shares_to_buy > 0:\n",
    "            position += shares_to_buy  # Increase number of shares held\n",
    "            balance -= shares_to_buy * current_price  # Deduct the cost from balance\n",
    "            print(f\"Buying {shares_to_buy} shares at {current_price:.2f} | New balance: ${balance:.2f}\")\n",
    "\n",
    "    # Sell condition: predicted price is lower than current price and we have shares to sell\n",
    "    elif predicted_price < current_price and position > 0:\n",
    "        # Sell all shares\n",
    "        balance += position * current_price  # Add sale amount to balance\n",
    "        print(f\"Selling {position} shares at {current_price:.2f} | New balance: ${balance:.2f}\")\n",
    "        position = 0  # Reset position after selling all shares\n",
    "\n",
    "# After loop ends, sell remaining shares (if any) at the last known price\n",
    "if position > 0:\n",
    "    remaining_price = X_test.iloc[-1]['Close'].item()  # Extract the scalar value\n",
    "    balance += position * remaining_price  # Sell remaining shares at last price\n",
    "    print(f\"Selling remaining {position} shares at {remaining_price:.2f}\")  # Properly format the scalar value\n",
    "    position = 0\n",
    "\n",
    "# Final balance calculation (including the remaining position value, if any)\n",
    "final_balance = balance\n",
    "profit = final_balance - initial_balance\n",
    "\n",
    "# Output the final results\n",
    "print(f\"Final balance: ${final_balance:.2f}\")\n",
    "print(f\"Profit: ${profit:.2f}\")\n",
    "\n"
   ]
  },
  {
   "cell_type": "code",
   "execution_count": null,
   "metadata": {},
   "outputs": [],
   "source": []
  }
 ],
 "metadata": {
  "kernelspec": {
   "display_name": ".venv",
   "language": "python",
   "name": "python3"
  },
  "language_info": {
   "codemirror_mode": {
    "name": "ipython",
    "version": 3
   },
   "file_extension": ".py",
   "mimetype": "text/x-python",
   "name": "python",
   "nbconvert_exporter": "python",
   "pygments_lexer": "ipython3",
   "version": "3.12.0"
  }
 },
 "nbformat": 4,
 "nbformat_minor": 2
}
